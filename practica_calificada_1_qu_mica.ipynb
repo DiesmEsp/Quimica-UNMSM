{
  "nbformat": 4,
  "nbformat_minor": 0,
  "metadata": {
    "colab": {
      "provenance": []
    },
    "kernelspec": {
      "name": "python3",
      "display_name": "Python 3"
    },
    "language_info": {
      "name": "python"
    },
    "widgets": {
      "application/vnd.jupyter.widget-state+json": {
        "634b41c9e18e422b89e58faf7cd3ad28": {
          "model_module": "faerun-notebook",
          "model_name": "SmilesDrawerModel",
          "model_module_version": "^0.1.5",
          "state": {
            "_dom_classes": [],
            "_model_module": "faerun-notebook",
            "_model_module_version": "^0.1.5",
            "_model_name": "SmilesDrawerModel",
            "_view_count": null,
            "_view_module": "faerun-notebook",
            "_view_module_version": "^0.1.5",
            "_view_name": "SmilesDrawerView",
            "background": "#1e1e1e",
            "border": true,
            "layout": "IPY_MODEL_15f462e382934a79b3e13009ce09bc15",
            "options": {
              "scale": 1.25
            },
            "output": "svg",
            "theme": "dark",
            "value": [
              [
                "Rxn",
                "C(C1C(C(C(C(O1)O)O)O)O)O.O=O>>C(=O)=O.O"
              ]
            ]
          }
        },
        "15f462e382934a79b3e13009ce09bc15": {
          "model_module": "@jupyter-widgets/base",
          "model_name": "LayoutModel",
          "model_module_version": "1.2.0",
          "state": {
            "_model_module": "@jupyter-widgets/base",
            "_model_module_version": "1.2.0",
            "_model_name": "LayoutModel",
            "_view_count": null,
            "_view_module": "@jupyter-widgets/base",
            "_view_module_version": "1.2.0",
            "_view_name": "LayoutView",
            "align_content": null,
            "align_items": null,
            "align_self": null,
            "border": null,
            "bottom": null,
            "display": null,
            "flex": null,
            "flex_flow": null,
            "grid_area": null,
            "grid_auto_columns": null,
            "grid_auto_flow": null,
            "grid_auto_rows": null,
            "grid_column": null,
            "grid_gap": null,
            "grid_row": null,
            "grid_template_areas": null,
            "grid_template_columns": null,
            "grid_template_rows": null,
            "height": null,
            "justify_content": null,
            "justify_items": null,
            "left": null,
            "margin": null,
            "max_height": null,
            "max_width": null,
            "min_height": null,
            "min_width": null,
            "object_fit": null,
            "object_position": null,
            "order": null,
            "overflow": null,
            "overflow_x": null,
            "overflow_y": null,
            "padding": null,
            "right": null,
            "top": null,
            "visibility": null,
            "width": null
          }
        }
      }
    }
  },
  "cells": [
    {
      "cell_type": "markdown",
      "source": [
        "#Problema 1"
      ],
      "metadata": {
        "id": "8q2d-j5aAkdm"
      }
    },
    {
      "cell_type": "code",
      "source": [
        "\n",
        "##Problema 1.1\n",
        "# Imprime la versión de python que usas y las palabras reservadas de python para esa versión.\n",
        "Plop = !python --version\n",
        "print(f\"La versiòn del python dedicado es {Plop}\")"
      ],
      "metadata": {
        "colab": {
          "base_uri": "https://localhost:8080/"
        },
        "id": "sktXCHCEAymP",
        "outputId": "2f17340a-731a-4cc7-f96e-c16f309c8916"
      },
      "execution_count": null,
      "outputs": [
        {
          "output_type": "stream",
          "name": "stdout",
          "text": [
            "La versiòn del python dedicado es ['Python 3.10.12']\n"
          ]
        }
      ]
    },
    {
      "cell_type": "code",
      "source": [
        "\n",
        "# Crea una matriz de 3x3 e imprime la suma de los elementos en su diagonal (traza)\n",
        "\n",
        "pili = []\n",
        "\n",
        "for i in range (3):\n",
        "  fila = []\n",
        "  for j in range (3):\n",
        "    num = float(input(f\"Ingrese el número de la posición:({i},{j}):\"))\n",
        "    fila.append(num)\n",
        "pili.append(fila)\n",
        "\n",
        "for fila in pili:\n",
        "  print(fila)\n",
        "\n",
        "Suma_Diag = 0\n",
        "\n",
        "for i in range (3):\n",
        "  Suma_Diag += pili[i][i]\n",
        "\n",
        "print(f\"La suma de los digitos en diagonal de la matriz es: {Suma_Diag}\")\n",
        "\n",
        "\n"
      ],
      "metadata": {
        "id": "hv07hxVUCQld"
      },
      "execution_count": null,
      "outputs": []
    },
    {
      "cell_type": "code",
      "source": [
        "# Guarda como variable la masa atómica de los elementos C, H y O, e imprime la masa molecular del etanol.\n",
        "\n",
        "Car= 12.011\n",
        "Hidro = 1.00784\n",
        "Oxi= 15.999\n",
        "\n",
        "#Etanol = C2-H6-O\n",
        "\n",
        "Eta = (Car*2)+ (Hidro*6)+ (Oxi)\n",
        "\n",
        "print(f\"La masa molecular del etanol es:{Eta}\")\n"
      ],
      "metadata": {
        "colab": {
          "base_uri": "https://localhost:8080/"
        },
        "id": "B1Z9w8CCHrIL",
        "outputId": "d506e305-5af6-4826-eb8f-e48b86528342"
      },
      "execution_count": null,
      "outputs": [
        {
          "output_type": "stream",
          "name": "stdout",
          "text": [
            "La masa molecular del etanol es:46.06804\n"
          ]
        }
      ]
    },
    {
      "cell_type": "code",
      "source": [
        "# Busca la temperatura de fusión en Celsius de 5 metales y guárdalos en una lista. Imprime las temperaturas en Kelvin\n",
        "\n",
        "metcel =[\n",
        "    (\"plata\",962),\n",
        "    (\"oro\",1064),\n",
        "    (\"estaño\",232),\n",
        "    (\"hierro\",1538),\n",
        "    (\"zinc\",420)\n",
        "]\n",
        "\n",
        "def celsius_a_kelvin(celsius):\n",
        "    return celsius + 273.15\n",
        "\n",
        "temperaturas_kelvin = []\n",
        "\n",
        "for metal, temp_celsius in metcel:\n",
        "    temp_kelvin = celsius_a_kelvin(temp_celsius)\n",
        "    temperaturas_kelvin.append((metal, temp_kelvin))\n",
        "\n",
        "for metal, temp_kelvin in temperaturas_kelvin:\n",
        "    print(f\"{metal}: {temp_kelvin: .2f} K\")\n"
      ],
      "metadata": {
        "id": "NCOnJ0FwgLLc",
        "colab": {
          "base_uri": "https://localhost:8080/",
          "height": 140
        },
        "outputId": "43b9d1c4-04e5-4ed0-cf9b-1124ea179261"
      },
      "execution_count": null,
      "outputs": [
        {
          "output_type": "error",
          "ename": "IndentationError",
          "evalue": "ignored",
          "traceback": [
            "\u001b[0;36m  File \u001b[0;32m\"<ipython-input-3-9e403df6939f>\"\u001b[0;36m, line \u001b[0;32m6\u001b[0m\n\u001b[0;31m    def celsius_a_kelvin(celsius):{\u001b[0m\n\u001b[0m    ^\u001b[0m\n\u001b[0;31mIndentationError\u001b[0m\u001b[0;31m:\u001b[0m unexpected indent\n"
          ]
        }
      ]
    },
    {
      "cell_type": "markdown",
      "source": [
        "#Pregunta 2: Operaciones\n"
      ],
      "metadata": {
        "id": "bCO0xXMKBLHt"
      }
    },
    {
      "cell_type": "markdown",
      "source": [
        "Escribe un programa que lea repetidamente elementos químicos en español hasta que el usuario introduzca “fin”. Una vez se haya introducido “fin”, muestra por pantalla (o sea imprime) el total de elementos ingresados. Si el usuario introduce cualquier otra cosa que no sea un elemento químico, detecta su fallo usando try y except, muestra un mensaje de error y pasa al siguiente elemento."
      ],
      "metadata": {
        "id": "99N079mCCSWO"
      }
    },
    {
      "cell_type": "code",
      "source": [
        "Periodic_Table = {\n",
        "    \"H\": \"Hidrogeno\",\n",
        "    \"Li\": \"Litio\",\n",
        "    \"Na\": \"Sodio\",\n",
        "    \"K\": \"Potasio\",\n",
        "    \"Rb\": \"Rubidio\",\n",
        "    \"Cs\": \"Cesio\",\n",
        "    \"Fr\": \"Francio\",\n",
        "    \"Be\": \"Berilio\",\n",
        "    \"Mg\": \"Magnesio\",\n",
        "    \"Ca\": \"Calsio\",\n",
        "    \"Sr\": \"Estroncio\",\n",
        "    \"Ba\": \"Bario\",\n",
        "    \"Ra\": \"Radio\",\n",
        "    \"Sc\": \"Escandio\",\n",
        "    \"Y\": \"Itrio\",\n",
        "    \"La\": \"Lantano\",\n",
        "    \"Ac\": \"Actinio\",\n",
        "    \"Ti\": \"Titanio\",\n",
        "    \"Zr\": \"Circonio\",\n",
        "    \"Hf\": \"Hafnio\",\n",
        "    \"Rf\": \"Rutherfordio\",\n",
        "    \"V\": \"Vanadio\",\n",
        "    \"Nb\": \"Niobio\",\n",
        "    \"Ta\": \"Tántalo\",\n",
        "    \"Db\": \"Dubnio\",\n",
        "    \"Cr\": \"Cromo\",\n",
        "    \"Mo\": \"Molibdeno\",\n",
        "    \"W\": \"Wolframio\",\n",
        "    \"Sg\": \"Seaborgio\",\n",
        "    \"Mn\": \"Manganeso\",\n",
        "    \"Tc\": \"Tecnesio\",\n",
        "    \"Re\": \"Renio\",\n",
        "    \"Bh\": \"Bohrio\",\n",
        "    \"Fe\": \"Hierro\",\n",
        "    \"Ru\": \"Rutenio\",\n",
        "    \"Os\": \"Osmio\",\n",
        "    \"Hs\": \"Hasio\",\n",
        "    \"Co\": \"Cobalto\",\n",
        "    \"Rh\": \"Rodio\",\n",
        "    \"Ir\": \"Iridio\",\n",
        "    \"Mt\": \"Meitnerio\",\n",
        "    \"Pd\": \"Paladio\",\n",
        "    \"Pt\": \"Platino\",\n",
        "    \"Ds\": \"Darmstatio\",\n",
        "    \"Cu\": \"Cobre\",\n",
        "    \"Ag\": \"Plata\",\n",
        "    \"Au\": \"Oro\",\n",
        "    \"Rg\": \"Roentgenio\",\n",
        "    \"Zn\": \"Zinc\",\n",
        "    \"Cd\": \"Cadmio\",\n",
        "    \"Hg\": \"Mercurio\",\n",
        "    \"Cn\": \"Copernicio\",\n",
        "    \"B\": \"Boro\",\n",
        "    \"Al\": \"Aluminio\",\n",
        "    \"Ga\": \"Galio\",\n",
        "    \"In\": \"Indio\",\n",
        "    \"Tl\": \"Talio\",\n",
        "    \"Nh\": \"Nihonio\",\n",
        "    \"C\": \"Carbono\",\n",
        "    \"Si\": \"Silicio\",\n",
        "    \"Ge\": \"Germanio\",\n",
        "    \"Sn\": \"Estaño\",\n",
        "    \"Pb\": \"Plomo\",\n",
        "    \"Fl\": \"Flerovio\",\n",
        "    \"N\": \"Nitrogeno\",\n",
        "    \"P\": \"Fósforo\",\n",
        "    \"As\": \"Arsenico\",\n",
        "    \"Sb\": \"Antimonio\",\n",
        "    \"Bi\": \"Bismuto\",\n",
        "    \"Mc\": \"Moscovio\",\n",
        "    \"O\": \"Oxigeno\",\n",
        "    \"S\": \"Azufre\",\n",
        "    \"Se\": \"Selenio\",\n",
        "    \"Te\": \"Telurio\",\n",
        "    \"Po\": \"Polonio\",\n",
        "    \"Lv\": \"Livermonio\",\n",
        "    \"F\": \"Flúor\",\n",
        "    \"Cl\": \"Cloro\",\n",
        "    \"Br\": \"Bromo\",\n",
        "    \"I\": \"Yodo\",\n",
        "    \"At\": \"Astato\",\n",
        "    \"Tn\": \"Teneso\",\n",
        "    \"He\": \"Helio\",\n",
        "    \"Ne\": \"Neón\",\n",
        "    \"Ar\": \"Argón\",\n",
        "    \"Kr\": \"Kriptón\",\n",
        "    \"Xe\": \"Xenón\",\n",
        "    \"Rn\": \"Radón\",\n",
        "    \"Og\": \"Oganesón\",\n",
        "    \"Ce\": \"Cerio\",\n",
        "    \"Th\": \"Torio\",\n",
        "    \"Pr\": \"Praseodimio\",\n",
        "    \"Pa\": \"Protactinio\",\n",
        "    \"Nd\": \"Neodimio\",\n",
        "    \"U\": \"Uranio\",\n",
        "    \"Pm\": \"Prometio\",\n",
        "    \"Np\": \"Neptunio\",\n",
        "    \"Sm\": \"Samario\",\n",
        "    \"Pu\": \"Plutonio\",\n",
        "    \"Eu\": \"Europio\",\n",
        "    \"Am\": \"Americio\",\n",
        "    \"Gd\": \"Gadolinio\",\n",
        "    \"Cm\": \"Curio\",\n",
        "    \"Tb\": \"Terbio\",\n",
        "    \"Bk\": \"Berkelio\",\n",
        "    \"Dy\": \"Disprosio\",\n",
        "    \"Cf\": \"Californio\",\n",
        "    \"Ho\": \"Holmio\",\n",
        "    \"Es\": \"Einstenio\",\n",
        "    \"Er\": \"Erbio\",\n",
        "    \"Fm\": \"Fermio\",\n",
        "    \"Tm\": \"Tulio\",\n",
        "    \"Md\": \"Mendelevio\",\n",
        "    \"Yb\": \"Iterbio\",\n",
        "    \"No\": \"Nobelio\",\n",
        "    \"Lu\": \"Lutecio\",\n",
        "    \"Lr\": \"Lawrencio\"\n",
        "}\n",
        "def busq_dict():\n",
        "    cont=0\n",
        "    for a,b in Periodic_Table.items():\n",
        "        T=False\n",
        "        while True:\n",
        "            try:\n",
        "                key = input(\"Ingrese el valor a buscar: \")\n",
        "                if key in Periodic_Table:\n",
        "                    print(f\"La traduccipon de {key} es: \", Periodic_Table[key])\n",
        "                    cont+=1\n",
        "                else:\n",
        "                    raise ValueError(\"Elemento no encontrado\")\n",
        "            except ValueError as error:\n",
        "                print(f\"{error}\")\n",
        "            d = input(\"Finalizar el programa? -> (fin) \")\n",
        "            if d.lower()==\"fin\":\n",
        "                T=True\n",
        "            break\n",
        "        if T:\n",
        "            break\n",
        "    print(f\"La cantidad de elementos que se ingresó fue: {cont}\")\n",
        "\n",
        "busq_dict()"
      ],
      "metadata": {
        "id": "8fRFdFl-CWLL"
      },
      "execution_count": null,
      "outputs": []
    },
    {
      "cell_type": "markdown",
      "source": [
        "#Pregunta 3: Conservación de la masa"
      ],
      "metadata": {
        "id": "hRXfuw9Bh07t"
      }
    },
    {
      "cell_type": "code",
      "source": [
        "!pip install faerun-notebook==0.1.5b0\n",
        "\n",
        "import ipywidgets as widgets\n",
        "from faerun_notebook import SmilesDrawer\n",
        "from google.colab import output\n",
        "output.enable_custom_widget_manager()\n",
        "SmilesDrawer(value=[(\"Rxn\", \"C(C1C(C(C(C(O1)O)O)O)O)O.O=O>>C(=O)=O.O\")], theme='dark', background=\"#1e1e1e\", options={'scale': yu1.\n",
        "                                                                                                                     hh 25})\n"
      ],
      "metadata": {
        "colab": {
          "base_uri": "https://localhost:8080/",
          "height": 1000,
          "referenced_widgets": [
            "634b41c9e18e422b89e58faf7cd3ad28",
            "15f462e382934a79b3e13009ce09bc15"
          ]
        },
        "id": "NKlNt6WLiUwR",
        "outputId": "52a55fbe-ea7d-4879-9475-2bde6c1318f5"
      },
      "execution_count": null,
      "outputs": [
        {
          "output_type": "stream",
          "name": "stdout",
          "text": [
            "Requirement already satisfied: faerun-notebook==0.1.5b0 in /usr/local/lib/python3.10/dist-packages (0.1.5b0)\n",
            "Requirement already satisfied: ipywidgets>=7.6.0 in /usr/local/lib/python3.10/dist-packages (from faerun-notebook==0.1.5b0) (7.7.1)\n",
            "Requirement already satisfied: numpy in /usr/local/lib/python3.10/dist-packages (from faerun-notebook==0.1.5b0) (1.23.5)\n",
            "Requirement already satisfied: matplotlib in /usr/local/lib/python3.10/dist-packages (from faerun-notebook==0.1.5b0) (3.7.1)\n",
            "Requirement already satisfied: ipykernel>=4.5.1 in /usr/local/lib/python3.10/dist-packages (from ipywidgets>=7.6.0->faerun-notebook==0.1.5b0) (5.5.6)\n",
            "Requirement already satisfied: ipython-genutils~=0.2.0 in /usr/local/lib/python3.10/dist-packages (from ipywidgets>=7.6.0->faerun-notebook==0.1.5b0) (0.2.0)\n",
            "Requirement already satisfied: traitlets>=4.3.1 in /usr/local/lib/python3.10/dist-packages (from ipywidgets>=7.6.0->faerun-notebook==0.1.5b0) (5.7.1)\n",
            "Requirement already satisfied: widgetsnbextension~=3.6.0 in /usr/local/lib/python3.10/dist-packages (from ipywidgets>=7.6.0->faerun-notebook==0.1.5b0) (3.6.5)\n",
            "Requirement already satisfied: ipython>=4.0.0 in /usr/local/lib/python3.10/dist-packages (from ipywidgets>=7.6.0->faerun-notebook==0.1.5b0) (7.34.0)\n",
            "Requirement already satisfied: jupyterlab-widgets>=1.0.0 in /usr/local/lib/python3.10/dist-packages (from ipywidgets>=7.6.0->faerun-notebook==0.1.5b0) (3.0.8)\n",
            "Requirement already satisfied: contourpy>=1.0.1 in /usr/local/lib/python3.10/dist-packages (from matplotlib->faerun-notebook==0.1.5b0) (1.1.0)\n",
            "Requirement already satisfied: cycler>=0.10 in /usr/local/lib/python3.10/dist-packages (from matplotlib->faerun-notebook==0.1.5b0) (0.11.0)\n",
            "Requirement already satisfied: fonttools>=4.22.0 in /usr/local/lib/python3.10/dist-packages (from matplotlib->faerun-notebook==0.1.5b0) (4.42.1)\n",
            "Requirement already satisfied: kiwisolver>=1.0.1 in /usr/local/lib/python3.10/dist-packages (from matplotlib->faerun-notebook==0.1.5b0) (1.4.4)\n",
            "Requirement already satisfied: packaging>=20.0 in /usr/local/lib/python3.10/dist-packages (from matplotlib->faerun-notebook==0.1.5b0) (23.1)\n",
            "Requirement already satisfied: pillow>=6.2.0 in /usr/local/lib/python3.10/dist-packages (from matplotlib->faerun-notebook==0.1.5b0) (9.4.0)\n",
            "Requirement already satisfied: pyparsing>=2.3.1 in /usr/local/lib/python3.10/dist-packages (from matplotlib->faerun-notebook==0.1.5b0) (3.1.1)\n",
            "Requirement already satisfied: python-dateutil>=2.7 in /usr/local/lib/python3.10/dist-packages (from matplotlib->faerun-notebook==0.1.5b0) (2.8.2)\n",
            "Requirement already satisfied: jupyter-client in /usr/local/lib/python3.10/dist-packages (from ipykernel>=4.5.1->ipywidgets>=7.6.0->faerun-notebook==0.1.5b0) (6.1.12)\n",
            "Requirement already satisfied: tornado>=4.2 in /usr/local/lib/python3.10/dist-packages (from ipykernel>=4.5.1->ipywidgets>=7.6.0->faerun-notebook==0.1.5b0) (6.3.2)\n",
            "Requirement already satisfied: setuptools>=18.5 in /usr/local/lib/python3.10/dist-packages (from ipython>=4.0.0->ipywidgets>=7.6.0->faerun-notebook==0.1.5b0) (67.7.2)\n",
            "Requirement already satisfied: jedi>=0.16 in /usr/local/lib/python3.10/dist-packages (from ipython>=4.0.0->ipywidgets>=7.6.0->faerun-notebook==0.1.5b0) (0.19.0)\n",
            "Requirement already satisfied: decorator in /usr/local/lib/python3.10/dist-packages (from ipython>=4.0.0->ipywidgets>=7.6.0->faerun-notebook==0.1.5b0) (4.4.2)\n",
            "Requirement already satisfied: pickleshare in /usr/local/lib/python3.10/dist-packages (from ipython>=4.0.0->ipywidgets>=7.6.0->faerun-notebook==0.1.5b0) (0.7.5)\n",
            "Requirement already satisfied: prompt-toolkit!=3.0.0,!=3.0.1,<3.1.0,>=2.0.0 in /usr/local/lib/python3.10/dist-packages (from ipython>=4.0.0->ipywidgets>=7.6.0->faerun-notebook==0.1.5b0) (3.0.39)\n",
            "Requirement already satisfied: pygments in /usr/local/lib/python3.10/dist-packages (from ipython>=4.0.0->ipywidgets>=7.6.0->faerun-notebook==0.1.5b0) (2.16.1)\n",
            "Requirement already satisfied: backcall in /usr/local/lib/python3.10/dist-packages (from ipython>=4.0.0->ipywidgets>=7.6.0->faerun-notebook==0.1.5b0) (0.2.0)\n",
            "Requirement already satisfied: matplotlib-inline in /usr/local/lib/python3.10/dist-packages (from ipython>=4.0.0->ipywidgets>=7.6.0->faerun-notebook==0.1.5b0) (0.1.6)\n",
            "Requirement already satisfied: pexpect>4.3 in /usr/local/lib/python3.10/dist-packages (from ipython>=4.0.0->ipywidgets>=7.6.0->faerun-notebook==0.1.5b0) (4.8.0)\n",
            "Requirement already satisfied: six>=1.5 in /usr/local/lib/python3.10/dist-packages (from python-dateutil>=2.7->matplotlib->faerun-notebook==0.1.5b0) (1.16.0)\n",
            "Requirement already satisfied: notebook>=4.4.1 in /usr/local/lib/python3.10/dist-packages (from widgetsnbextension~=3.6.0->ipywidgets>=7.6.0->faerun-notebook==0.1.5b0) (6.5.5)\n",
            "Requirement already satisfied: parso<0.9.0,>=0.8.3 in /usr/local/lib/python3.10/dist-packages (from jedi>=0.16->ipython>=4.0.0->ipywidgets>=7.6.0->faerun-notebook==0.1.5b0) (0.8.3)\n",
            "Requirement already satisfied: jinja2 in /usr/local/lib/python3.10/dist-packages (from notebook>=4.4.1->widgetsnbextension~=3.6.0->ipywidgets>=7.6.0->faerun-notebook==0.1.5b0) (3.1.2)\n",
            "Requirement already satisfied: pyzmq<25,>=17 in /usr/local/lib/python3.10/dist-packages (from notebook>=4.4.1->widgetsnbextension~=3.6.0->ipywidgets>=7.6.0->faerun-notebook==0.1.5b0) (23.2.1)\n",
            "Requirement already satisfied: argon2-cffi in /usr/local/lib/python3.10/dist-packages (from notebook>=4.4.1->widgetsnbextension~=3.6.0->ipywidgets>=7.6.0->faerun-notebook==0.1.5b0) (23.1.0)\n",
            "Requirement already satisfied: jupyter-core>=4.6.1 in /usr/local/lib/python3.10/dist-packages (from notebook>=4.4.1->widgetsnbextension~=3.6.0->ipywidgets>=7.6.0->faerun-notebook==0.1.5b0) (5.3.1)\n",
            "Requirement already satisfied: nbformat in /usr/local/lib/python3.10/dist-packages (from notebook>=4.4.1->widgetsnbextension~=3.6.0->ipywidgets>=7.6.0->faerun-notebook==0.1.5b0) (5.9.2)\n",
            "Requirement already satisfied: nbconvert>=5 in /usr/local/lib/python3.10/dist-packages (from notebook>=4.4.1->widgetsnbextension~=3.6.0->ipywidgets>=7.6.0->faerun-notebook==0.1.5b0) (6.5.4)\n",
            "Requirement already satisfied: nest-asyncio>=1.5 in /usr/local/lib/python3.10/dist-packages (from notebook>=4.4.1->widgetsnbextension~=3.6.0->ipywidgets>=7.6.0->faerun-notebook==0.1.5b0) (1.5.7)\n",
            "Requirement already satisfied: Send2Trash>=1.8.0 in /usr/local/lib/python3.10/dist-packages (from notebook>=4.4.1->widgetsnbextension~=3.6.0->ipywidgets>=7.6.0->faerun-notebook==0.1.5b0) (1.8.2)\n",
            "Requirement already satisfied: terminado>=0.8.3 in /usr/local/lib/python3.10/dist-packages (from notebook>=4.4.1->widgetsnbextension~=3.6.0->ipywidgets>=7.6.0->faerun-notebook==0.1.5b0) (0.17.1)\n",
            "Requirement already satisfied: prometheus-client in /usr/local/lib/python3.10/dist-packages (from notebook>=4.4.1->widgetsnbextension~=3.6.0->ipywidgets>=7.6.0->faerun-notebook==0.1.5b0) (0.17.1)\n",
            "Requirement already satisfied: nbclassic>=0.4.7 in /usr/local/lib/python3.10/dist-packages (from notebook>=4.4.1->widgetsnbextension~=3.6.0->ipywidgets>=7.6.0->faerun-notebook==0.1.5b0) (1.0.0)\n",
            "Requirement already satisfied: ptyprocess>=0.5 in /usr/local/lib/python3.10/dist-packages (from pexpect>4.3->ipython>=4.0.0->ipywidgets>=7.6.0->faerun-notebook==0.1.5b0) (0.7.0)\n",
            "Requirement already satisfied: wcwidth in /usr/local/lib/python3.10/dist-packages (from prompt-toolkit!=3.0.0,!=3.0.1,<3.1.0,>=2.0.0->ipython>=4.0.0->ipywidgets>=7.6.0->faerun-notebook==0.1.5b0) (0.2.6)\n",
            "Requirement already satisfied: platformdirs>=2.5 in /usr/local/lib/python3.10/dist-packages (from jupyter-core>=4.6.1->notebook>=4.4.1->widgetsnbextension~=3.6.0->ipywidgets>=7.6.0->faerun-notebook==0.1.5b0) (3.10.0)\n",
            "Requirement already satisfied: jupyter-server>=1.8 in /usr/local/lib/python3.10/dist-packages (from nbclassic>=0.4.7->notebook>=4.4.1->widgetsnbextension~=3.6.0->ipywidgets>=7.6.0->faerun-notebook==0.1.5b0) (1.24.0)\n",
            "Requirement already satisfied: notebook-shim>=0.2.3 in /usr/local/lib/python3.10/dist-packages (from nbclassic>=0.4.7->notebook>=4.4.1->widgetsnbextension~=3.6.0->ipywidgets>=7.6.0->faerun-notebook==0.1.5b0) (0.2.3)\n",
            "Requirement already satisfied: lxml in /usr/local/lib/python3.10/dist-packages (from nbconvert>=5->notebook>=4.4.1->widgetsnbextension~=3.6.0->ipywidgets>=7.6.0->faerun-notebook==0.1.5b0) (4.9.3)\n",
            "Requirement already satisfied: beautifulsoup4 in /usr/local/lib/python3.10/dist-packages (from nbconvert>=5->notebook>=4.4.1->widgetsnbextension~=3.6.0->ipywidgets>=7.6.0->faerun-notebook==0.1.5b0) (4.11.2)\n",
            "Requirement already satisfied: bleach in /usr/local/lib/python3.10/dist-packages (from nbconvert>=5->notebook>=4.4.1->widgetsnbextension~=3.6.0->ipywidgets>=7.6.0->faerun-notebook==0.1.5b0) (6.0.0)\n",
            "Requirement already satisfied: defusedxml in /usr/local/lib/python3.10/dist-packages (from nbconvert>=5->notebook>=4.4.1->widgetsnbextension~=3.6.0->ipywidgets>=7.6.0->faerun-notebook==0.1.5b0) (0.7.1)\n",
            "Requirement already satisfied: entrypoints>=0.2.2 in /usr/local/lib/python3.10/dist-packages (from nbconvert>=5->notebook>=4.4.1->widgetsnbextension~=3.6.0->ipywidgets>=7.6.0->faerun-notebook==0.1.5b0) (0.4)\n",
            "Requirement already satisfied: jupyterlab-pygments in /usr/local/lib/python3.10/dist-packages (from nbconvert>=5->notebook>=4.4.1->widgetsnbextension~=3.6.0->ipywidgets>=7.6.0->faerun-notebook==0.1.5b0) (0.2.2)\n",
            "Requirement already satisfied: MarkupSafe>=2.0 in /usr/local/lib/python3.10/dist-packages (from nbconvert>=5->notebook>=4.4.1->widgetsnbextension~=3.6.0->ipywidgets>=7.6.0->faerun-notebook==0.1.5b0) (2.1.3)\n",
            "Requirement already satisfied: mistune<2,>=0.8.1 in /usr/local/lib/python3.10/dist-packages (from nbconvert>=5->notebook>=4.4.1->widgetsnbextension~=3.6.0->ipywidgets>=7.6.0->faerun-notebook==0.1.5b0) (0.8.4)\n",
            "Requirement already satisfied: nbclient>=0.5.0 in /usr/local/lib/python3.10/dist-packages (from nbconvert>=5->notebook>=4.4.1->widgetsnbextension~=3.6.0->ipywidgets>=7.6.0->faerun-notebook==0.1.5b0) (0.8.0)\n",
            "Requirement already satisfied: pandocfilters>=1.4.1 in /usr/local/lib/python3.10/dist-packages (from nbconvert>=5->notebook>=4.4.1->widgetsnbextension~=3.6.0->ipywidgets>=7.6.0->faerun-notebook==0.1.5b0) (1.5.0)\n",
            "Requirement already satisfied: tinycss2 in /usr/local/lib/python3.10/dist-packages (from nbconvert>=5->notebook>=4.4.1->widgetsnbextension~=3.6.0->ipywidgets>=7.6.0->faerun-notebook==0.1.5b0) (1.2.1)\n",
            "Requirement already satisfied: fastjsonschema in /usr/local/lib/python3.10/dist-packages (from nbformat->notebook>=4.4.1->widgetsnbextension~=3.6.0->ipywidgets>=7.6.0->faerun-notebook==0.1.5b0) (2.18.0)\n",
            "Requirement already satisfied: jsonschema>=2.6 in /usr/local/lib/python3.10/dist-packages (from nbformat->notebook>=4.4.1->widgetsnbextension~=3.6.0->ipywidgets>=7.6.0->faerun-notebook==0.1.5b0) (4.19.0)\n",
            "Requirement already satisfied: argon2-cffi-bindings in /usr/local/lib/python3.10/dist-packages (from argon2-cffi->notebook>=4.4.1->widgetsnbextension~=3.6.0->ipywidgets>=7.6.0->faerun-notebook==0.1.5b0) (21.2.0)\n",
            "Requirement already satisfied: attrs>=22.2.0 in /usr/local/lib/python3.10/dist-packages (from jsonschema>=2.6->nbformat->notebook>=4.4.1->widgetsnbextension~=3.6.0->ipywidgets>=7.6.0->faerun-notebook==0.1.5b0) (23.1.0)\n",
            "Requirement already satisfied: jsonschema-specifications>=2023.03.6 in /usr/local/lib/python3.10/dist-packages (from jsonschema>=2.6->nbformat->notebook>=4.4.1->widgetsnbextension~=3.6.0->ipywidgets>=7.6.0->faerun-notebook==0.1.5b0) (2023.7.1)\n",
            "Requirement already satisfied: referencing>=0.28.4 in /usr/local/lib/python3.10/dist-packages (from jsonschema>=2.6->nbformat->notebook>=4.4.1->widgetsnbextension~=3.6.0->ipywidgets>=7.6.0->faerun-notebook==0.1.5b0) (0.30.2)\n",
            "Requirement already satisfied: rpds-py>=0.7.1 in /usr/local/lib/python3.10/dist-packages (from jsonschema>=2.6->nbformat->notebook>=4.4.1->widgetsnbextension~=3.6.0->ipywidgets>=7.6.0->faerun-notebook==0.1.5b0) (0.9.2)\n",
            "Requirement already satisfied: anyio<4,>=3.1.0 in /usr/local/lib/python3.10/dist-packages (from jupyter-server>=1.8->nbclassic>=0.4.7->notebook>=4.4.1->widgetsnbextension~=3.6.0->ipywidgets>=7.6.0->faerun-notebook==0.1.5b0) (3.7.1)\n",
            "Requirement already satisfied: websocket-client in /usr/local/lib/python3.10/dist-packages (from jupyter-server>=1.8->nbclassic>=0.4.7->notebook>=4.4.1->widgetsnbextension~=3.6.0->ipywidgets>=7.6.0->faerun-notebook==0.1.5b0) (1.6.2)\n",
            "Requirement already satisfied: cffi>=1.0.1 in /usr/local/lib/python3.10/dist-packages (from argon2-cffi-bindings->argon2-cffi->notebook>=4.4.1->widgetsnbextension~=3.6.0->ipywidgets>=7.6.0->faerun-notebook==0.1.5b0) (1.15.1)\n",
            "Requirement already satisfied: soupsieve>1.2 in /usr/local/lib/python3.10/dist-packages (from beautifulsoup4->nbconvert>=5->notebook>=4.4.1->widgetsnbextension~=3.6.0->ipywidgets>=7.6.0->faerun-notebook==0.1.5b0) (2.4.1)\n",
            "Requirement already satisfied: webencodings in /usr/local/lib/python3.10/dist-packages (from bleach->nbconvert>=5->notebook>=4.4.1->widgetsnbextension~=3.6.0->ipywidgets>=7.6.0->faerun-notebook==0.1.5b0) (0.5.1)\n",
            "Requirement already satisfied: idna>=2.8 in /usr/local/lib/python3.10/dist-packages (from anyio<4,>=3.1.0->jupyter-server>=1.8->nbclassic>=0.4.7->notebook>=4.4.1->widgetsnbextension~=3.6.0->ipywidgets>=7.6.0->faerun-notebook==0.1.5b0) (3.4)\n",
            "Requirement already satisfied: sniffio>=1.1 in /usr/local/lib/python3.10/dist-packages (from anyio<4,>=3.1.0->jupyter-server>=1.8->nbclassic>=0.4.7->notebook>=4.4.1->widgetsnbextension~=3.6.0->ipywidgets>=7.6.0->faerun-notebook==0.1.5b0) (1.3.0)\n",
            "Requirement already satisfied: exceptiongroup in /usr/local/lib/python3.10/dist-packages (from anyio<4,>=3.1.0->jupyter-server>=1.8->nbclassic>=0.4.7->notebook>=4.4.1->widgetsnbextension~=3.6.0->ipywidgets>=7.6.0->faerun-notebook==0.1.5b0) (1.1.3)\n",
            "Requirement already satisfied: pycparser in /usr/local/lib/python3.10/dist-packages (from cffi>=1.0.1->argon2-cffi-bindings->argon2-cffi->notebook>=4.4.1->widgetsnbextension~=3.6.0->ipywidgets>=7.6.0->faerun-notebook==0.1.5b0) (2.21)\n"
          ]
        },
        {
          "output_type": "display_data",
          "data": {
            "text/plain": [
              "SmilesDrawer(background='#1e1e1e', options={'scale': 1.25}, theme='dark', value=[('Rxn', 'C(C1C(C(C(C(O1)O)O)O…"
            ],
            "application/vnd.jupyter.widget-view+json": {
              "version_major": 2,
              "version_minor": 0,
              "model_id": "634b41c9e18e422b89e58faf7cd3ad28"
            }
          },
          "metadata": {
            "application/vnd.jupyter.widget-view+json": {
              "colab": {
                "custom_widget_manager": {
                  "url": "https://ssl.gstatic.com/colaboratory-static/widgets/colab-cdn-widget-manager/b3e629b1971e1542/manager.min.js"
                }
              }
            }
          }
        }
      ]
    },
    {
      "cell_type": "code",
      "source": [
        "#En el problema se nos muestra el siguiente reactivo con su producto: C6H12O6 + O2 -> CO2 + H2O\n",
        "\n",
        "carb_mass = 12.0111\n",
        "hidro_mass = 1.00784\n",
        "oxi_mass = 15.999\n",
        "\n",
        "#Aplicación del balance estequimetrico mediante la función balance_stoichiometric\n",
        "from chempy import balance_stoichiometry\n",
        "reac,prod = balance_stoichiometry({\"C6H12O6\",\"O2\"},{\"CO2\", \"H2O\"})\n",
        "print(\"Problema unicial: C6H12O6 + O2 -> CO2 + H2O\")\n",
        "print(\"Aplicación de balanceo estequimetrico\")\n",
        "print(dict(reac))\n",
        "print(dict(prod))\n",
        "\n",
        "#Producto balanceado queda de la siguiente manera: C6H12O6 + 6(O2) -> 6(CO2) + 6(H2O)\n",
        "\n",
        "cant_carb1 = 6\n",
        "cant_hidro1 = 12\n",
        "cant_oxi1= 6 + 6*2\n",
        "\n",
        "cant_carb2= 6\n",
        "cant_hidro2 = 6*2\n",
        "cant_oxi2 = 6*2 + 6\n",
        "\n",
        "masa_react = (cant_carb1*carb_mass + cant_hidro1*hidro_mass + cant_oxi1*oxi_mass)\n",
        "masa_prod = (cant_carb2*carb_mass + cant_hidro2*hidro_mass + cant_oxi2*oxi_mass)\n",
        "\n",
        "print(\"La masa de los reactivos es de:\", masa_react, \"u\")\n",
        "print(\"La masa de los productos es de: \",masa_prod, \"u\")\n",
        "\n",
        "if masa_react == masa_prod:\n",
        "    print(\"La ley de la conservación de la masa se cumple\")\n",
        "else:\n",
        "    print(\"La ley de la conservación de la masa no se cumple\")\n",
        "\n",
        "\n"
      ],
      "metadata": {
        "colab": {
          "base_uri": "https://localhost:8080/"
        },
        "id": "bV5bNyI5xyoV",
        "outputId": "d8bdfd16-0775-48f9-a0c2-655de51a7332"
      },
      "execution_count": null,
      "outputs": [
        {
          "output_type": "stream",
          "name": "stdout",
          "text": [
            "Problema unicial: C6H12O6 + O2 -> CO2 + H2O\n",
            "Aplicación de balanceo estequimetrico\n",
            "{'C6H12O6': 1, 'O2': 6}\n",
            "{'CO2': 6, 'H2O': 6}\n",
            "La masa de los reactivos es de: 372.14268000000004 u\n",
            "La masa de los productos es de:  372.14268000000004 u\n",
            "La ley de la conservación de la masa se cumple\n"
          ]
        }
      ]
    },
    {
      "cell_type": "markdown",
      "source": [
        "#Problema 4: Notación científica"
      ],
      "metadata": {
        "id": "Bbri_BlkwaIQ"
      }
    },
    {
      "cell_type": "markdown",
      "source": [
        "![Captura de pantalla 2023-08-30 230348.png](data:image/png;base64,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)"
      ],
      "metadata": {
        "id": "PyzDDAFnwkqw"
      }
    },
    {
      "cell_type": "code",
      "source": [
        "#Convertir en notación cientifica una serie de valores\n",
        "\n",
        "print(\"INGRESAR LOS OPERADORES Y OPERANDOS\")\n",
        "val1 = float(input(\"Ingrese los valores del primer número (Notación científica): \"))\n",
        "exp1= float(input(\"Ingrese el valor del exponente del primer número: \"))\n",
        "\n",
        "val2 = float(input(\"Ingrese los valores del segundo número (Notación científica): \"))\n",
        "exp2 = float(input(\"Ingrese el valor del exponente del segundo número: \"))\n",
        "\n",
        "def calcular(x):\n",
        "    c = 0\n",
        "    while x > 0:\n",
        "        c += 1\n",
        "        x = x//10\n",
        "    return(c-1)\n",
        "\n",
        "def sum(a,b,c,d):\n",
        "    k = a*(10**c)\n",
        "    f = b*(10**d)\n",
        "    dif = abs(c - d)\n",
        "    fin= k + f\n",
        "    val_fin = fin*(10**dif)\n",
        "\n",
        "    if c > d:\n",
        "        print(\"Respuesta:\", val_fin,\"x10^\",c)\n",
        "    else:\n",
        "        if d > c:\n",
        "            print(\"Respuesta:\", val_fin,\"x10^\",d)\n",
        "        else:\n",
        "            p = calcular(fin)\n",
        "            l = fin *(10**(p*-1))\n",
        "            print(\"Respuesta:\", val_fin,\"x10^\",p)\n",
        "\n",
        "def rest(a,b,c,d):\n",
        "    k = a*(10**c)\n",
        "    f = b*(10**d)\n",
        "    fin = k - f\n",
        "    dif = (calcular(fin)*-1)\n",
        "    val_fin = fin*(10**dif)\n",
        "    if c > d:\n",
        "        print(\"Respuesta:\", val_fin,\"x10^\",c)\n",
        "    else:\n",
        "        if d > c:\n",
        "            print(\"Respuesta:\", val_fin,\"x10^\",d)\n",
        "        else:\n",
        "             print(\"Respuesta:\", val_fin,\"x10^\",c)\n",
        "\n",
        "def mult(a,b,c,d):\n",
        "    k = a*(10**c)\n",
        "    f = b*(10**d)\n",
        "    fin = k*f\n",
        "    val_fin = fin*(10**(calcular(fin)*-1))\n",
        "    print(\"Respuesta: \",val_fin,\"*10^\",calcular(fin))\n",
        "\n",
        "def div(a,b,c,d):\n",
        "    k = a*(10**c)\n",
        "    f = b*(10**d)\n",
        "    fin = (k/f)\n",
        "    val_fin = fin*(10**(abs(c-d)*-1))\n",
        "    print(\"Respuesta: \", val_fin,\"*10^\",(c-d))\n",
        "\n",
        "T = True\n",
        "while T == True:\n",
        "    print(\"***Menú principal***\")\n",
        "    print(\"1. Sumar\")\n",
        "    print(\"2. Restar\")\n",
        "    print(\"3. Multiplicar\")\n",
        "    print(\"4. Dividir\")\n",
        "    print(\"5. Salir\")\n",
        "    opc = input(\"Ingrese una opción\")\n",
        "    if opc == \"1\":\n",
        "        sum(val1,val2,exp1,exp2)\n",
        "        T = False\n",
        "    else:\n",
        "        if opc == \"2\":\n",
        "            rest(val1,val2,exp1,exp2)\n",
        "            T = False\n",
        "        else:\n",
        "            if opc == \"3\":\n",
        "                mult(val1,val2,exp1,exp2)\n",
        "                T = False\n",
        "            else:\n",
        "                if opc ==\"4\":\n",
        "                    div(val1,val2,exp1,exp2)\n",
        "                    T = False\n",
        "                else:\n",
        "                    if opc==\"5\":\n",
        "                        print(\"ADIOS!!!\")\n",
        "                        T = False\n",
        "                    else:\n",
        "                        print(\"OPCION INVALIDA\")\n",
        "\n"
      ],
      "metadata": {
        "colab": {
          "base_uri": "https://localhost:8080/"
        },
        "id": "ufvKajKCwhC_",
        "outputId": "1dc5516c-1cb7-4fbc-86bb-bbccb809f76a"
      },
      "execution_count": null,
      "outputs": [
        {
          "output_type": "stream",
          "name": "stdout",
          "text": [
            "Ingrese los valores del primer número (Notación científica)1.321\n",
            "Ingrese el valor del exponente del primer número-4\n",
            "Ingrese los valores del segundo número (Notación científica)8.5\n",
            "Ingrese el valor del exponente del segundo número-2\n",
            "0.013342099999999999\n",
            "Respuesta:  1.33421 x10^ -2.0\n"
          ]
        }
      ]
    },
    {
      "cell_type": "markdown",
      "source": [
        "#Pregunta 5: Método científico\n",
        "Artículo: https://bit.ly/3surZ1W Leer el siguiente artículo y explica cómo es aplicado el método científico. Emplea como máximo 300 palabras."
      ],
      "metadata": {
        "id": "eayh96M-JqlJ"
      }
    },
    {
      "cell_type": "markdown",
      "source": [
        "Dentro del artículo se nos postuló una teoría, en este caso, que el elemento LK-99 es un material superconductor a temperatura y presión ambiente. Esto debido a que mediante \"\"Observaciones\"\" se encontraron ciertas características que comparten dichos mateirales (resistividad eléctrica y levitación parcial al estar cerca de un imán). Esta teoría fue rapidamente desmentida, esto debido a que comenzaron a salir una serie de estudios que contradecían lo ya mencionado, y postulaban que dicho material compartía estas características debido a pecurialidades en su composición. Inicialmente, se mencionó que talvéz la resistividad eléctrica pueda deberse a impuresas en el material de estudio, y mediante análisis de muestras del laboratorio donde se postuló la teoría inicial, se llegó a la conclusión de que si se encontraban con un material impuro ya que se encontraron ciertas cantidades de sulfuro de cobre dentro de dichas muestras, compuesto que tiene la característica de que al estar a ciertas temperaturas posee una mayor resistividad eléctrica. A su vez, también se llegó a desmentir la mencionada levitación parcial, gracias a Derrick VanGennep quién no estaba conforme con dicha postulación, refutó que se podría tratar de ferromagnetismo, y usando como ejemplo varillas de grafito con límaduras de hierro pudo comprobar que también tenian la misma característica, que junto a análisis en las muestras, también comprobó que dicho material tenia esa caracteristica gracias al ferromagnetismo que tenian uno de sus elementos dentro de su composición.\n",
        "Dentro del artículo se planteó una teoría ante un elemento que poseía características particulares solo presente en materiales especiales, en la cual se postuló que el material Lk-99 pertenecía a dichos materiales. Facilmente fue refutado, debido a que no tenía mucho sustento en su postulación, y mediante estudios y observaciones del comportamiento de ciertos materiales, se logró refutar que dicho material no tenía ninguna de esas propiedades."
      ],
      "metadata": {
        "id": "YeLC5VRnUdqu"
      }
    },
    {
      "cell_type": "markdown",
      "source": [],
      "metadata": {
        "id": "UuCefQE7I_8z"
      }
    }
  ]
}